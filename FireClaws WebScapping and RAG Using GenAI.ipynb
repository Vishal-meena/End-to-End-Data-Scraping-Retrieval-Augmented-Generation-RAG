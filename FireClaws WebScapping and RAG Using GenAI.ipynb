{
  "cells": [
    {
      "cell_type": "markdown",
      "metadata": {
        "id": "iEXJEgDax8ya"
      },
      "source": []
    },
    {
      "cell_type": "code",
      "execution_count": null,
      "metadata": {
        "colab": {
          "base_uri": "https://localhost:8080/"
        },
        "id": "VIw8OLLtEXEw",
        "outputId": "d07e6a54-4b39-49d7-a8e5-95642d02c034"
      },
      "outputs": [
        {
          "name": "stdout",
          "output_type": "stream",
          "text": [
            "\u001b[2K     \u001b[90m━━━━━━━━━━━━━━━━━━━━━━━━━━━━━━━━━━━━━━━━\u001b[0m \u001b[32m50.4/50.4 kB\u001b[0m \u001b[31m2.8 MB/s\u001b[0m eta \u001b[36m0:00:00\u001b[0m\n",
            "\u001b[2K   \u001b[90m━━━━━━━━━━━━━━━━━━━━━━━━━━━━━━━━━━━━━━━━\u001b[0m \u001b[32m2.4/2.4 MB\u001b[0m \u001b[31m36.5 MB/s\u001b[0m eta \u001b[36m0:00:00\u001b[0m\n",
            "\u001b[2K   \u001b[90m━━━━━━━━━━━━━━━━━━━━━━━━━━━━━━━━━━━━━━━━\u001b[0m \u001b[32m1.0/1.0 MB\u001b[0m \u001b[31m43.4 MB/s\u001b[0m eta \u001b[36m0:00:00\u001b[0m\n",
            "\u001b[2K   \u001b[90m━━━━━━━━━━━━━━━━━━━━━━━━━━━━━━━━━━━━━━━━\u001b[0m \u001b[32m404.4/404.4 kB\u001b[0m \u001b[31m25.6 MB/s\u001b[0m eta \u001b[36m0:00:00\u001b[0m\n",
            "\u001b[2K   \u001b[90m━━━━━━━━━━━━━━━━━━━━━━━━━━━━━━━━━━━━━━━━\u001b[0m \u001b[32m295.8/295.8 kB\u001b[0m \u001b[31m18.6 MB/s\u001b[0m eta \u001b[36m0:00:00\u001b[0m\n",
            "\u001b[2K   \u001b[90m━━━━━━━━━━━━━━━━━━━━━━━━━━━━━━━━━━━━━━━━\u001b[0m \u001b[32m76.4/76.4 kB\u001b[0m \u001b[31m6.1 MB/s\u001b[0m eta \u001b[36m0:00:00\u001b[0m\n",
            "\u001b[2K   \u001b[90m━━━━━━━━━━━━━━━━━━━━━━━━━━━━━━━━━━━━━━━━\u001b[0m \u001b[32m78.0/78.0 kB\u001b[0m \u001b[31m5.3 MB/s\u001b[0m eta \u001b[36m0:00:00\u001b[0m\n",
            "\u001b[2K   \u001b[90m━━━━━━━━━━━━━━━━━━━━━━━━━━━━━━━━━━━━━━━━\u001b[0m \u001b[32m49.3/49.3 kB\u001b[0m \u001b[31m3.2 MB/s\u001b[0m eta \u001b[36m0:00:00\u001b[0m\n",
            "\u001b[2K   \u001b[90m━━━━━━━━━━━━━━━━━━━━━━━━━━━━━━━━━━━━━━━━\u001b[0m \u001b[32m141.9/141.9 kB\u001b[0m \u001b[31m9.8 MB/s\u001b[0m eta \u001b[36m0:00:00\u001b[0m\n",
            "\u001b[2K   \u001b[90m━━━━━━━━━━━━━━━━━━━━━━━━━━━━━━━━━━━━━━━━\u001b[0m \u001b[32m54.5/54.5 kB\u001b[0m \u001b[31m3.3 MB/s\u001b[0m eta \u001b[36m0:00:00\u001b[0m\n",
            "\u001b[2K   \u001b[90m━━━━━━━━━━━━━━━━━━━━━━━━━━━━━━━━━━━━━━━━\u001b[0m \u001b[32m58.3/58.3 kB\u001b[0m \u001b[31m3.8 MB/s\u001b[0m eta \u001b[36m0:00:00\u001b[0m\n",
            "\u001b[?25h"
          ]
        }
      ],
      "source": [
        "%pip install -qU firecrawl-py==0.0.20 langchain_community"
      ]
    },
    {
      "cell_type": "code",
      "execution_count": null,
      "metadata": {
        "colab": {
          "base_uri": "https://localhost:8080/"
        },
        "id": "eWWSYP1_E35R",
        "outputId": "7d3132ca-4327-48b0-960f-036823c0cc0e"
      },
      "outputs": [
        {
          "name": "stdout",
          "output_type": "stream",
          "text": [
            "Enter your Firecrawl API key: ··········\n"
          ]
        }
      ],
      "source": [
        "import getpass\n",
        "import os\n",
        "\n",
        "if \"FIRECRAWL_API_KEY\" not in os.environ:\n",
        "    os.environ[\"FIRECRAWL_API_KEY\"] = getpass.getpass(\"Enter your Firecrawl API key: \")"
      ]
    },
    {
      "cell_type": "code",
      "execution_count": null,
      "metadata": {
        "colab": {
          "base_uri": "https://localhost:8080/",
          "height": 1000
        },
        "id": "1lkNOEwfyWCi",
        "outputId": "262032e0-292f-4d6b-faad-2997d9923abd"
      },
      "outputs": [
        {
          "name": "stdout",
          "output_type": "stream",
          "text": [
            "Collecting chromaDB\n",
            "  Downloading chromadb-0.5.12-py3-none-any.whl.metadata (6.8 kB)\n",
            "Collecting langchain-google-genai\n",
            "  Downloading langchain_google_genai-2.0.1-py3-none-any.whl.metadata (3.9 kB)\n",
            "Requirement already satisfied: build>=1.0.3 in /usr/local/lib/python3.10/dist-packages (from chromaDB) (1.2.2.post1)\n",
            "Requirement already satisfied: pydantic>=1.9 in /usr/local/lib/python3.10/dist-packages (from chromaDB) (2.9.2)\n",
            "Collecting chroma-hnswlib==0.7.6 (from chromaDB)\n",
            "  Downloading chroma_hnswlib-0.7.6-cp310-cp310-manylinux_2_17_x86_64.manylinux2014_x86_64.whl.metadata (252 bytes)\n",
            "Collecting fastapi>=0.95.2 (from chromaDB)\n",
            "  Downloading fastapi-0.115.0-py3-none-any.whl.metadata (27 kB)\n",
            "Collecting uvicorn>=0.18.3 (from uvicorn[standard]>=0.18.3->chromaDB)\n",
            "  Downloading uvicorn-0.31.1-py3-none-any.whl.metadata (6.6 kB)\n",
            "Requirement already satisfied: numpy>=1.22.5 in /usr/local/lib/python3.10/dist-packages (from chromaDB) (1.26.4)\n",
            "Collecting posthog>=2.4.0 (from chromaDB)\n",
            "  Downloading posthog-3.7.0-py2.py3-none-any.whl.metadata (2.0 kB)\n",
            "Requirement already satisfied: typing-extensions>=4.5.0 in /usr/local/lib/python3.10/dist-packages (from chromaDB) (4.12.2)\n",
            "Collecting onnxruntime>=1.14.1 (from chromaDB)\n",
            "  Downloading onnxruntime-1.19.2-cp310-cp310-manylinux_2_27_x86_64.manylinux_2_28_x86_64.whl.metadata (4.5 kB)\n",
            "Requirement already satisfied: opentelemetry-api>=1.2.0 in /usr/local/lib/python3.10/dist-packages (from chromaDB) (1.27.0)\n",
            "Collecting opentelemetry-exporter-otlp-proto-grpc>=1.2.0 (from chromaDB)\n",
            "  Downloading opentelemetry_exporter_otlp_proto_grpc-1.27.0-py3-none-any.whl.metadata (2.3 kB)\n",
            "Collecting opentelemetry-instrumentation-fastapi>=0.41b0 (from chromaDB)\n",
            "  Downloading opentelemetry_instrumentation_fastapi-0.48b0-py3-none-any.whl.metadata (2.1 kB)\n",
            "Requirement already satisfied: opentelemetry-sdk>=1.2.0 in /usr/local/lib/python3.10/dist-packages (from chromaDB) (1.27.0)\n",
            "Requirement already satisfied: tokenizers>=0.13.2 in /usr/local/lib/python3.10/dist-packages (from chromaDB) (0.19.1)\n",
            "Collecting pypika>=0.48.9 (from chromaDB)\n",
            "  Downloading PyPika-0.48.9.tar.gz (67 kB)\n",
            "\u001b[2K     \u001b[90m━━━━━━━━━━━━━━━━━━━━━━━━━━━━━━━━━━━━━━━━\u001b[0m \u001b[32m67.3/67.3 kB\u001b[0m \u001b[31m4.7 MB/s\u001b[0m eta \u001b[36m0:00:00\u001b[0m\n",
            "\u001b[?25h  Installing build dependencies ... \u001b[?25l\u001b[?25hdone\n",
            "  Getting requirements to build wheel ... \u001b[?25l\u001b[?25hdone\n",
            "  Preparing metadata (pyproject.toml) ... \u001b[?25l\u001b[?25hdone\n",
            "Requirement already satisfied: tqdm>=4.65.0 in /usr/local/lib/python3.10/dist-packages (from chromaDB) (4.66.5)\n",
            "Collecting overrides>=7.3.1 (from chromaDB)\n",
            "  Downloading overrides-7.7.0-py3-none-any.whl.metadata (5.8 kB)\n",
            "Requirement already satisfied: importlib-resources in /usr/local/lib/python3.10/dist-packages (from chromaDB) (6.4.5)\n",
            "Requirement already satisfied: grpcio>=1.58.0 in /usr/local/lib/python3.10/dist-packages (from chromaDB) (1.64.1)\n",
            "Collecting bcrypt>=4.0.1 (from chromaDB)\n",
            "  Downloading bcrypt-4.2.0-cp39-abi3-manylinux_2_28_x86_64.whl.metadata (9.6 kB)\n",
            "Requirement already satisfied: typer>=0.9.0 in /usr/local/lib/python3.10/dist-packages (from chromaDB) (0.12.5)\n",
            "Collecting kubernetes>=28.1.0 (from chromaDB)\n",
            "  Downloading kubernetes-31.0.0-py2.py3-none-any.whl.metadata (1.5 kB)\n",
            "Requirement already satisfied: tenacity>=8.2.3 in /usr/local/lib/python3.10/dist-packages (from chromaDB) (8.5.0)\n",
            "Requirement already satisfied: PyYAML>=6.0.0 in /usr/local/lib/python3.10/dist-packages (from chromaDB) (6.0.2)\n",
            "Collecting mmh3>=4.0.1 (from chromaDB)\n",
            "  Downloading mmh3-5.0.1-cp310-cp310-manylinux_2_5_x86_64.manylinux1_x86_64.manylinux_2_17_x86_64.manylinux2014_x86_64.whl.metadata (14 kB)\n",
            "Requirement already satisfied: orjson>=3.9.12 in /usr/local/lib/python3.10/dist-packages (from chromaDB) (3.10.7)\n",
            "Requirement already satisfied: httpx>=0.27.0 in /usr/local/lib/python3.10/dist-packages (from chromaDB) (0.27.2)\n",
            "Requirement already satisfied: rich>=10.11.0 in /usr/local/lib/python3.10/dist-packages (from chromaDB) (13.9.2)\n",
            "Collecting google-generativeai<0.9.0,>=0.8.0 (from langchain-google-genai)\n",
            "  Downloading google_generativeai-0.8.3-py3-none-any.whl.metadata (3.9 kB)\n",
            "Requirement already satisfied: langchain-core<0.4,>=0.3.0 in /usr/local/lib/python3.10/dist-packages (from langchain-google-genai) (0.3.10)\n",
            "Requirement already satisfied: packaging>=19.1 in /usr/local/lib/python3.10/dist-packages (from build>=1.0.3->chromaDB) (24.1)\n",
            "Requirement already satisfied: pyproject_hooks in /usr/local/lib/python3.10/dist-packages (from build>=1.0.3->chromaDB) (1.2.0)\n",
            "Requirement already satisfied: tomli>=1.1.0 in /usr/local/lib/python3.10/dist-packages (from build>=1.0.3->chromaDB) (2.0.2)\n",
            "Collecting starlette<0.39.0,>=0.37.2 (from fastapi>=0.95.2->chromaDB)\n",
            "  Downloading starlette-0.38.6-py3-none-any.whl.metadata (6.0 kB)\n",
            "Collecting google-ai-generativelanguage==0.6.10 (from google-generativeai<0.9.0,>=0.8.0->langchain-google-genai)\n",
            "  Downloading google_ai_generativelanguage-0.6.10-py3-none-any.whl.metadata (5.6 kB)\n",
            "Requirement already satisfied: google-api-core in /usr/local/lib/python3.10/dist-packages (from google-generativeai<0.9.0,>=0.8.0->langchain-google-genai) (2.19.2)\n",
            "Requirement already satisfied: google-api-python-client in /usr/local/lib/python3.10/dist-packages (from google-generativeai<0.9.0,>=0.8.0->langchain-google-genai) (2.137.0)\n",
            "Requirement already satisfied: google-auth>=2.15.0 in /usr/local/lib/python3.10/dist-packages (from google-generativeai<0.9.0,>=0.8.0->langchain-google-genai) (2.27.0)\n",
            "Requirement already satisfied: protobuf in /usr/local/lib/python3.10/dist-packages (from google-generativeai<0.9.0,>=0.8.0->langchain-google-genai) (3.20.3)\n",
            "Requirement already satisfied: proto-plus<2.0.0dev,>=1.22.3 in /usr/local/lib/python3.10/dist-packages (from google-ai-generativelanguage==0.6.10->google-generativeai<0.9.0,>=0.8.0->langchain-google-genai) (1.24.0)\n",
            "Requirement already satisfied: anyio in /usr/local/lib/python3.10/dist-packages (from httpx>=0.27.0->chromaDB) (3.7.1)\n",
            "Requirement already satisfied: certifi in /usr/local/lib/python3.10/dist-packages (from httpx>=0.27.0->chromaDB) (2024.8.30)\n",
            "Requirement already satisfied: httpcore==1.* in /usr/local/lib/python3.10/dist-packages (from httpx>=0.27.0->chromaDB) (1.0.6)\n",
            "Requirement already satisfied: idna in /usr/local/lib/python3.10/dist-packages (from httpx>=0.27.0->chromaDB) (3.10)\n",
            "Requirement already satisfied: sniffio in /usr/local/lib/python3.10/dist-packages (from httpx>=0.27.0->chromaDB) (1.3.1)\n",
            "Requirement already satisfied: h11<0.15,>=0.13 in /usr/local/lib/python3.10/dist-packages (from httpcore==1.*->httpx>=0.27.0->chromaDB) (0.14.0)\n",
            "Requirement already satisfied: six>=1.9.0 in /usr/local/lib/python3.10/dist-packages (from kubernetes>=28.1.0->chromaDB) (1.16.0)\n",
            "Requirement already satisfied: python-dateutil>=2.5.3 in /usr/local/lib/python3.10/dist-packages (from kubernetes>=28.1.0->chromaDB) (2.8.2)\n",
            "Requirement already satisfied: websocket-client!=0.40.0,!=0.41.*,!=0.42.*,>=0.32.0 in /usr/local/lib/python3.10/dist-packages (from kubernetes>=28.1.0->chromaDB) (1.8.0)\n",
            "Requirement already satisfied: requests in /usr/local/lib/python3.10/dist-packages (from kubernetes>=28.1.0->chromaDB) (2.32.3)\n",
            "Requirement already satisfied: requests-oauthlib in /usr/local/lib/python3.10/dist-packages (from kubernetes>=28.1.0->chromaDB) (1.3.1)\n",
            "Requirement already satisfied: oauthlib>=3.2.2 in /usr/local/lib/python3.10/dist-packages (from kubernetes>=28.1.0->chromaDB) (3.2.2)\n",
            "Requirement already satisfied: urllib3>=1.24.2 in /usr/local/lib/python3.10/dist-packages (from kubernetes>=28.1.0->chromaDB) (2.2.3)\n",
            "Collecting durationpy>=0.7 (from kubernetes>=28.1.0->chromaDB)\n",
            "  Downloading durationpy-0.9-py3-none-any.whl.metadata (338 bytes)\n",
            "Requirement already satisfied: jsonpatch<2.0,>=1.33 in /usr/local/lib/python3.10/dist-packages (from langchain-core<0.4,>=0.3.0->langchain-google-genai) (1.33)\n",
            "Requirement already satisfied: langsmith<0.2.0,>=0.1.125 in /usr/local/lib/python3.10/dist-packages (from langchain-core<0.4,>=0.3.0->langchain-google-genai) (0.1.133)\n",
            "Collecting coloredlogs (from onnxruntime>=1.14.1->chromaDB)\n",
            "  Downloading coloredlogs-15.0.1-py2.py3-none-any.whl.metadata (12 kB)\n",
            "Requirement already satisfied: flatbuffers in /usr/local/lib/python3.10/dist-packages (from onnxruntime>=1.14.1->chromaDB) (24.3.25)\n",
            "Requirement already satisfied: sympy in /usr/local/lib/python3.10/dist-packages (from onnxruntime>=1.14.1->chromaDB) (1.13.3)\n",
            "Requirement already satisfied: deprecated>=1.2.6 in /usr/local/lib/python3.10/dist-packages (from opentelemetry-api>=1.2.0->chromaDB) (1.2.14)\n",
            "Requirement already satisfied: importlib-metadata<=8.4.0,>=6.0 in /usr/local/lib/python3.10/dist-packages (from opentelemetry-api>=1.2.0->chromaDB) (8.4.0)\n",
            "Requirement already satisfied: googleapis-common-protos~=1.52 in /usr/local/lib/python3.10/dist-packages (from opentelemetry-exporter-otlp-proto-grpc>=1.2.0->chromaDB) (1.65.0)\n",
            "Collecting opentelemetry-exporter-otlp-proto-common==1.27.0 (from opentelemetry-exporter-otlp-proto-grpc>=1.2.0->chromaDB)\n",
            "  Downloading opentelemetry_exporter_otlp_proto_common-1.27.0-py3-none-any.whl.metadata (1.8 kB)\n",
            "Collecting opentelemetry-proto==1.27.0 (from opentelemetry-exporter-otlp-proto-grpc>=1.2.0->chromaDB)\n",
            "  Downloading opentelemetry_proto-1.27.0-py3-none-any.whl.metadata (2.3 kB)\n",
            "Collecting opentelemetry-instrumentation-asgi==0.48b0 (from opentelemetry-instrumentation-fastapi>=0.41b0->chromaDB)\n",
            "  Downloading opentelemetry_instrumentation_asgi-0.48b0-py3-none-any.whl.metadata (2.0 kB)\n",
            "Collecting opentelemetry-instrumentation==0.48b0 (from opentelemetry-instrumentation-fastapi>=0.41b0->chromaDB)\n",
            "  Downloading opentelemetry_instrumentation-0.48b0-py3-none-any.whl.metadata (6.1 kB)\n",
            "Requirement already satisfied: opentelemetry-semantic-conventions==0.48b0 in /usr/local/lib/python3.10/dist-packages (from opentelemetry-instrumentation-fastapi>=0.41b0->chromaDB) (0.48b0)\n",
            "Collecting opentelemetry-util-http==0.48b0 (from opentelemetry-instrumentation-fastapi>=0.41b0->chromaDB)\n",
            "  Downloading opentelemetry_util_http-0.48b0-py3-none-any.whl.metadata (2.5 kB)\n",
            "Requirement already satisfied: setuptools>=16.0 in /usr/local/lib/python3.10/dist-packages (from opentelemetry-instrumentation==0.48b0->opentelemetry-instrumentation-fastapi>=0.41b0->chromaDB) (71.0.4)\n",
            "Requirement already satisfied: wrapt<2.0.0,>=1.0.0 in /usr/local/lib/python3.10/dist-packages (from opentelemetry-instrumentation==0.48b0->opentelemetry-instrumentation-fastapi>=0.41b0->chromaDB) (1.16.0)\n",
            "Collecting asgiref~=3.0 (from opentelemetry-instrumentation-asgi==0.48b0->opentelemetry-instrumentation-fastapi>=0.41b0->chromaDB)\n",
            "  Downloading asgiref-3.8.1-py3-none-any.whl.metadata (9.3 kB)\n",
            "Collecting monotonic>=1.5 (from posthog>=2.4.0->chromaDB)\n",
            "  Downloading monotonic-1.6-py2.py3-none-any.whl.metadata (1.5 kB)\n",
            "Collecting backoff>=1.10.0 (from posthog>=2.4.0->chromaDB)\n",
            "  Downloading backoff-2.2.1-py3-none-any.whl.metadata (14 kB)\n",
            "Requirement already satisfied: annotated-types>=0.6.0 in /usr/local/lib/python3.10/dist-packages (from pydantic>=1.9->chromaDB) (0.7.0)\n",
            "Requirement already satisfied: pydantic-core==2.23.4 in /usr/local/lib/python3.10/dist-packages (from pydantic>=1.9->chromaDB) (2.23.4)\n",
            "Requirement already satisfied: markdown-it-py>=2.2.0 in /usr/local/lib/python3.10/dist-packages (from rich>=10.11.0->chromaDB) (3.0.0)\n",
            "Requirement already satisfied: pygments<3.0.0,>=2.13.0 in /usr/local/lib/python3.10/dist-packages (from rich>=10.11.0->chromaDB) (2.18.0)\n",
            "Requirement already satisfied: huggingface-hub<1.0,>=0.16.4 in /usr/local/lib/python3.10/dist-packages (from tokenizers>=0.13.2->chromaDB) (0.24.7)\n",
            "Requirement already satisfied: click>=8.0.0 in /usr/local/lib/python3.10/dist-packages (from typer>=0.9.0->chromaDB) (8.1.7)\n",
            "Requirement already satisfied: shellingham>=1.3.0 in /usr/local/lib/python3.10/dist-packages (from typer>=0.9.0->chromaDB) (1.5.4)\n",
            "Collecting httptools>=0.5.0 (from uvicorn[standard]>=0.18.3->chromaDB)\n",
            "  Downloading httptools-0.6.1-cp310-cp310-manylinux_2_5_x86_64.manylinux1_x86_64.manylinux_2_17_x86_64.manylinux2014_x86_64.whl.metadata (3.6 kB)\n",
            "Requirement already satisfied: python-dotenv>=0.13 in /usr/local/lib/python3.10/dist-packages (from uvicorn[standard]>=0.18.3->chromaDB) (1.0.1)\n",
            "Collecting uvloop!=0.15.0,!=0.15.1,>=0.14.0 (from uvicorn[standard]>=0.18.3->chromaDB)\n",
            "  Downloading uvloop-0.20.0-cp310-cp310-manylinux_2_17_x86_64.manylinux2014_x86_64.whl.metadata (4.9 kB)\n",
            "Collecting watchfiles>=0.13 (from uvicorn[standard]>=0.18.3->chromaDB)\n",
            "  Downloading watchfiles-0.24.0-cp310-cp310-manylinux_2_17_x86_64.manylinux2014_x86_64.whl.metadata (4.9 kB)\n",
            "Collecting websockets>=10.4 (from uvicorn[standard]>=0.18.3->chromaDB)\n",
            "  Downloading websockets-13.1-cp310-cp310-manylinux_2_5_x86_64.manylinux1_x86_64.manylinux_2_17_x86_64.manylinux2014_x86_64.whl.metadata (6.8 kB)\n",
            "Requirement already satisfied: cachetools<6.0,>=2.0.0 in /usr/local/lib/python3.10/dist-packages (from google-auth>=2.15.0->google-generativeai<0.9.0,>=0.8.0->langchain-google-genai) (5.5.0)\n",
            "Requirement already satisfied: pyasn1-modules>=0.2.1 in /usr/local/lib/python3.10/dist-packages (from google-auth>=2.15.0->google-generativeai<0.9.0,>=0.8.0->langchain-google-genai) (0.4.1)\n",
            "Requirement already satisfied: rsa<5,>=3.1.4 in /usr/local/lib/python3.10/dist-packages (from google-auth>=2.15.0->google-generativeai<0.9.0,>=0.8.0->langchain-google-genai) (4.9)\n",
            "Requirement already satisfied: filelock in /usr/local/lib/python3.10/dist-packages (from huggingface-hub<1.0,>=0.16.4->tokenizers>=0.13.2->chromaDB) (3.16.1)\n",
            "Requirement already satisfied: fsspec>=2023.5.0 in /usr/local/lib/python3.10/dist-packages (from huggingface-hub<1.0,>=0.16.4->tokenizers>=0.13.2->chromaDB) (2024.6.1)\n",
            "Requirement already satisfied: zipp>=0.5 in /usr/local/lib/python3.10/dist-packages (from importlib-metadata<=8.4.0,>=6.0->opentelemetry-api>=1.2.0->chromaDB) (3.20.2)\n",
            "Requirement already satisfied: jsonpointer>=1.9 in /usr/local/lib/python3.10/dist-packages (from jsonpatch<2.0,>=1.33->langchain-core<0.4,>=0.3.0->langchain-google-genai) (3.0.0)\n",
            "Requirement already satisfied: requests-toolbelt<2.0.0,>=1.0.0 in /usr/local/lib/python3.10/dist-packages (from langsmith<0.2.0,>=0.1.125->langchain-core<0.4,>=0.3.0->langchain-google-genai) (1.0.0)\n",
            "Requirement already satisfied: mdurl~=0.1 in /usr/local/lib/python3.10/dist-packages (from markdown-it-py>=2.2.0->rich>=10.11.0->chromaDB) (0.1.2)\n",
            "Requirement already satisfied: charset-normalizer<4,>=2 in /usr/local/lib/python3.10/dist-packages (from requests->kubernetes>=28.1.0->chromaDB) (3.3.2)\n",
            "Requirement already satisfied: exceptiongroup in /usr/local/lib/python3.10/dist-packages (from anyio->httpx>=0.27.0->chromaDB) (1.2.2)\n",
            "Collecting humanfriendly>=9.1 (from coloredlogs->onnxruntime>=1.14.1->chromaDB)\n",
            "  Downloading humanfriendly-10.0-py2.py3-none-any.whl.metadata (9.2 kB)\n",
            "Requirement already satisfied: httplib2<1.dev0,>=0.19.0 in /usr/local/lib/python3.10/dist-packages (from google-api-python-client->google-generativeai<0.9.0,>=0.8.0->langchain-google-genai) (0.22.0)\n",
            "Requirement already satisfied: google-auth-httplib2<1.0.0,>=0.2.0 in /usr/local/lib/python3.10/dist-packages (from google-api-python-client->google-generativeai<0.9.0,>=0.8.0->langchain-google-genai) (0.2.0)\n",
            "Requirement already satisfied: uritemplate<5,>=3.0.1 in /usr/local/lib/python3.10/dist-packages (from google-api-python-client->google-generativeai<0.9.0,>=0.8.0->langchain-google-genai) (4.1.1)\n",
            "Requirement already satisfied: mpmath<1.4,>=1.1.0 in /usr/local/lib/python3.10/dist-packages (from sympy->onnxruntime>=1.14.1->chromaDB) (1.3.0)\n",
            "Requirement already satisfied: grpcio-status<2.0.dev0,>=1.33.2 in /usr/local/lib/python3.10/dist-packages (from google-api-core[grpc]!=2.0.*,!=2.1.*,!=2.10.*,!=2.2.*,!=2.3.*,!=2.4.*,!=2.5.*,!=2.6.*,!=2.7.*,!=2.8.*,!=2.9.*,<3.0.0dev,>=1.34.1->google-ai-generativelanguage==0.6.10->google-generativeai<0.9.0,>=0.8.0->langchain-google-genai) (1.48.2)\n",
            "Requirement already satisfied: pyparsing!=3.0.0,!=3.0.1,!=3.0.2,!=3.0.3,<4,>=2.4.2 in /usr/local/lib/python3.10/dist-packages (from httplib2<1.dev0,>=0.19.0->google-api-python-client->google-generativeai<0.9.0,>=0.8.0->langchain-google-genai) (3.1.4)\n",
            "Requirement already satisfied: pyasn1<0.7.0,>=0.4.6 in /usr/local/lib/python3.10/dist-packages (from pyasn1-modules>=0.2.1->google-auth>=2.15.0->google-generativeai<0.9.0,>=0.8.0->langchain-google-genai) (0.6.1)\n",
            "Downloading chromadb-0.5.12-py3-none-any.whl (602 kB)\n",
            "\u001b[2K   \u001b[90m━━━━━━━━━━━━━━━━━━━━━━━━━━━━━━━━━━━━━━━━\u001b[0m \u001b[32m602.6/602.6 kB\u001b[0m \u001b[31m16.5 MB/s\u001b[0m eta \u001b[36m0:00:00\u001b[0m\n",
            "\u001b[?25hDownloading chroma_hnswlib-0.7.6-cp310-cp310-manylinux_2_17_x86_64.manylinux2014_x86_64.whl (2.4 MB)\n",
            "\u001b[2K   \u001b[90m━━━━━━━━━━━━━━━━━━━━━━━━━━━━━━━━━━━━━━━━\u001b[0m \u001b[32m2.4/2.4 MB\u001b[0m \u001b[31m60.4 MB/s\u001b[0m eta \u001b[36m0:00:00\u001b[0m\n",
            "\u001b[?25hDownloading langchain_google_genai-2.0.1-py3-none-any.whl (40 kB)\n",
            "\u001b[2K   \u001b[90m━━━━━━━━━━━━━━━━━━━━━━━━━━━━━━━━━━━━━━━━\u001b[0m \u001b[32m40.4/40.4 kB\u001b[0m \u001b[31m2.6 MB/s\u001b[0m eta \u001b[36m0:00:00\u001b[0m\n",
            "\u001b[?25hDownloading bcrypt-4.2.0-cp39-abi3-manylinux_2_28_x86_64.whl (273 kB)\n",
            "\u001b[2K   \u001b[90m━━━━━━━━━━━━━━━━━━━━━━━━━━━━━━━━━━━━━━━━\u001b[0m \u001b[32m273.8/273.8 kB\u001b[0m \u001b[31m16.6 MB/s\u001b[0m eta \u001b[36m0:00:00\u001b[0m\n",
            "\u001b[?25hDownloading fastapi-0.115.0-py3-none-any.whl (94 kB)\n",
            "\u001b[2K   \u001b[90m━━━━━━━━━━━━━━━━━━━━━━━━━━━━━━━━━━━━━━━━\u001b[0m \u001b[32m94.6/94.6 kB\u001b[0m \u001b[31m6.8 MB/s\u001b[0m eta \u001b[36m0:00:00\u001b[0m\n",
            "\u001b[?25hDownloading google_generativeai-0.8.3-py3-none-any.whl (160 kB)\n",
            "\u001b[2K   \u001b[90m━━━━━━━━━━━━━━━━━━━━━━━━━━━━━━━━━━━━━━━━\u001b[0m \u001b[32m160.8/160.8 kB\u001b[0m \u001b[31m11.5 MB/s\u001b[0m eta \u001b[36m0:00:00\u001b[0m\n",
            "\u001b[?25hDownloading google_ai_generativelanguage-0.6.10-py3-none-any.whl (760 kB)\n",
            "\u001b[2K   \u001b[90m━━━━━━━━━━━━━━━━━━━━━━━━━━━━━━━━━━━━━━━━\u001b[0m \u001b[32m760.0/760.0 kB\u001b[0m \u001b[31m38.0 MB/s\u001b[0m eta \u001b[36m0:00:00\u001b[0m\n",
            "\u001b[?25hDownloading kubernetes-31.0.0-py2.py3-none-any.whl (1.9 MB)\n",
            "\u001b[2K   \u001b[90m━━━━━━━━━━━━━━━━━━━━━━━━━━━━━━━━━━━━━━━━\u001b[0m \u001b[32m1.9/1.9 MB\u001b[0m \u001b[31m60.3 MB/s\u001b[0m eta \u001b[36m0:00:00\u001b[0m\n",
            "\u001b[?25hDownloading mmh3-5.0.1-cp310-cp310-manylinux_2_5_x86_64.manylinux1_x86_64.manylinux_2_17_x86_64.manylinux2014_x86_64.whl (93 kB)\n",
            "\u001b[2K   \u001b[90m━━━━━━━━━━━━━━━━━━━━━━━━━━━━━━━━━━━━━━━━\u001b[0m \u001b[32m93.2/93.2 kB\u001b[0m \u001b[31m7.1 MB/s\u001b[0m eta \u001b[36m0:00:00\u001b[0m\n",
            "\u001b[?25hDownloading onnxruntime-1.19.2-cp310-cp310-manylinux_2_27_x86_64.manylinux_2_28_x86_64.whl (13.2 MB)\n",
            "\u001b[2K   \u001b[90m━━━━━━━━━━━━━━━━━━━━━━━━━━━━━━━━━━━━━━━━\u001b[0m \u001b[32m13.2/13.2 MB\u001b[0m \u001b[31m87.0 MB/s\u001b[0m eta \u001b[36m0:00:00\u001b[0m\n",
            "\u001b[?25hDownloading opentelemetry_exporter_otlp_proto_grpc-1.27.0-py3-none-any.whl (18 kB)\n",
            "Downloading opentelemetry_exporter_otlp_proto_common-1.27.0-py3-none-any.whl (17 kB)\n",
            "Downloading opentelemetry_proto-1.27.0-py3-none-any.whl (52 kB)\n",
            "\u001b[2K   \u001b[90m━━━━━━━━━━━━━━━━━━━━━━━━━━━━━━━━━━━━━━━━\u001b[0m \u001b[32m52.5/52.5 kB\u001b[0m \u001b[31m3.4 MB/s\u001b[0m eta \u001b[36m0:00:00\u001b[0m\n",
            "\u001b[?25hDownloading opentelemetry_instrumentation_fastapi-0.48b0-py3-none-any.whl (11 kB)\n",
            "Downloading opentelemetry_instrumentation-0.48b0-py3-none-any.whl (29 kB)\n",
            "Downloading opentelemetry_instrumentation_asgi-0.48b0-py3-none-any.whl (15 kB)\n",
            "Downloading opentelemetry_util_http-0.48b0-py3-none-any.whl (6.9 kB)\n",
            "Downloading overrides-7.7.0-py3-none-any.whl (17 kB)\n",
            "Downloading posthog-3.7.0-py2.py3-none-any.whl (54 kB)\n",
            "\u001b[2K   \u001b[90m━━━━━━━━━━━━━━━━━━━━━━━━━━━━━━━━━━━━━━━━\u001b[0m \u001b[32m54.4/54.4 kB\u001b[0m \u001b[31m3.7 MB/s\u001b[0m eta \u001b[36m0:00:00\u001b[0m\n",
            "\u001b[?25hDownloading uvicorn-0.31.1-py3-none-any.whl (63 kB)\n",
            "\u001b[2K   \u001b[90m━━━━━━━━━━━━━━━━━━━━━━━━━━━━━━━━━━━━━━━━\u001b[0m \u001b[32m63.7/63.7 kB\u001b[0m \u001b[31m4.6 MB/s\u001b[0m eta \u001b[36m0:00:00\u001b[0m\n",
            "\u001b[?25hDownloading backoff-2.2.1-py3-none-any.whl (15 kB)\n",
            "Downloading durationpy-0.9-py3-none-any.whl (3.5 kB)\n",
            "Downloading httptools-0.6.1-cp310-cp310-manylinux_2_5_x86_64.manylinux1_x86_64.manylinux_2_17_x86_64.manylinux2014_x86_64.whl (341 kB)\n",
            "\u001b[2K   \u001b[90m━━━━━━━━━━━━━━━━━━━━━━━━━━━━━━━━━━━━━━━━\u001b[0m \u001b[32m341.4/341.4 kB\u001b[0m \u001b[31m23.7 MB/s\u001b[0m eta \u001b[36m0:00:00\u001b[0m\n",
            "\u001b[?25hDownloading monotonic-1.6-py2.py3-none-any.whl (8.2 kB)\n",
            "Downloading starlette-0.38.6-py3-none-any.whl (71 kB)\n",
            "\u001b[2K   \u001b[90m━━━━━━━━━━━━━━━━━━━━━━━━━━━━━━━━━━━━━━━━\u001b[0m \u001b[32m71.5/71.5 kB\u001b[0m \u001b[31m4.8 MB/s\u001b[0m eta \u001b[36m0:00:00\u001b[0m\n",
            "\u001b[?25hDownloading uvloop-0.20.0-cp310-cp310-manylinux_2_17_x86_64.manylinux2014_x86_64.whl (3.4 MB)\n",
            "\u001b[2K   \u001b[90m━━━━━━━━━━━━━━━━━━━━━━━━━━━━━━━━━━━━━━━━\u001b[0m \u001b[32m3.4/3.4 MB\u001b[0m \u001b[31m81.2 MB/s\u001b[0m eta \u001b[36m0:00:00\u001b[0m\n",
            "\u001b[?25hDownloading watchfiles-0.24.0-cp310-cp310-manylinux_2_17_x86_64.manylinux2014_x86_64.whl (425 kB)\n",
            "\u001b[2K   \u001b[90m━━━━━━━━━━━━━━━━━━━━━━━━━━━━━━━━━━━━━━━━\u001b[0m \u001b[32m425.7/425.7 kB\u001b[0m \u001b[31m18.2 MB/s\u001b[0m eta \u001b[36m0:00:00\u001b[0m\n",
            "\u001b[?25hDownloading websockets-13.1-cp310-cp310-manylinux_2_5_x86_64.manylinux1_x86_64.manylinux_2_17_x86_64.manylinux2014_x86_64.whl (164 kB)\n",
            "\u001b[2K   \u001b[90m━━━━━━━━━━━━━━━━━━━━━━━━━━━━━━━━━━━━━━━━\u001b[0m \u001b[32m164.1/164.1 kB\u001b[0m \u001b[31m11.7 MB/s\u001b[0m eta \u001b[36m0:00:00\u001b[0m\n",
            "\u001b[?25hDownloading coloredlogs-15.0.1-py2.py3-none-any.whl (46 kB)\n",
            "\u001b[2K   \u001b[90m━━━━━━━━━━━━━━━━━━━━━━━━━━━━━━━━━━━━━━━━\u001b[0m \u001b[32m46.0/46.0 kB\u001b[0m \u001b[31m3.1 MB/s\u001b[0m eta \u001b[36m0:00:00\u001b[0m\n",
            "\u001b[?25hDownloading asgiref-3.8.1-py3-none-any.whl (23 kB)\n",
            "Downloading humanfriendly-10.0-py2.py3-none-any.whl (86 kB)\n",
            "\u001b[2K   \u001b[90m━━━━━━━━━━━━━━━━━━━━━━━━━━━━━━━━━━━━━━━━\u001b[0m \u001b[32m86.8/86.8 kB\u001b[0m \u001b[31m6.4 MB/s\u001b[0m eta \u001b[36m0:00:00\u001b[0m\n",
            "\u001b[?25hBuilding wheels for collected packages: pypika\n",
            "  Building wheel for pypika (pyproject.toml) ... \u001b[?25l\u001b[?25hdone\n",
            "  Created wheel for pypika: filename=PyPika-0.48.9-py2.py3-none-any.whl size=53723 sha256=e9b2a10dc7eed2a0a3a3e63dcc172ac8ea69cb5eb801778a09c6064cbec2fcd8\n",
            "  Stored in directory: /root/.cache/pip/wheels/e1/26/51/d0bffb3d2fd82256676d7ad3003faea3bd6dddc9577af665f4\n",
            "Successfully built pypika\n",
            "Installing collected packages: pypika, monotonic, durationpy, websockets, uvloop, uvicorn, overrides, opentelemetry-util-http, opentelemetry-proto, mmh3, humanfriendly, httptools, chroma-hnswlib, bcrypt, backoff, asgiref, watchfiles, starlette, posthog, opentelemetry-exporter-otlp-proto-common, coloredlogs, opentelemetry-instrumentation, onnxruntime, kubernetes, fastapi, opentelemetry-instrumentation-asgi, opentelemetry-instrumentation-fastapi, opentelemetry-exporter-otlp-proto-grpc, google-ai-generativelanguage, google-generativeai, chromaDB, langchain-google-genai\n",
            "  Attempting uninstall: google-ai-generativelanguage\n",
            "    Found existing installation: google-ai-generativelanguage 0.6.6\n",
            "    Uninstalling google-ai-generativelanguage-0.6.6:\n",
            "      Successfully uninstalled google-ai-generativelanguage-0.6.6\n",
            "  Attempting uninstall: google-generativeai\n",
            "    Found existing installation: google-generativeai 0.7.2\n",
            "    Uninstalling google-generativeai-0.7.2:\n",
            "      Successfully uninstalled google-generativeai-0.7.2\n",
            "Successfully installed asgiref-3.8.1 backoff-2.2.1 bcrypt-4.2.0 chroma-hnswlib-0.7.6 chromaDB-0.5.12 coloredlogs-15.0.1 durationpy-0.9 fastapi-0.115.0 google-ai-generativelanguage-0.6.10 google-generativeai-0.8.3 httptools-0.6.1 humanfriendly-10.0 kubernetes-31.0.0 langchain-google-genai-2.0.1 mmh3-5.0.1 monotonic-1.6 onnxruntime-1.19.2 opentelemetry-exporter-otlp-proto-common-1.27.0 opentelemetry-exporter-otlp-proto-grpc-1.27.0 opentelemetry-instrumentation-0.48b0 opentelemetry-instrumentation-asgi-0.48b0 opentelemetry-instrumentation-fastapi-0.48b0 opentelemetry-proto-1.27.0 opentelemetry-util-http-0.48b0 overrides-7.7.0 posthog-3.7.0 pypika-0.48.9 starlette-0.38.6 uvicorn-0.31.1 uvloop-0.20.0 watchfiles-0.24.0 websockets-13.1\n"
          ]
        },
        {
          "data": {
            "application/vnd.colab-display-data+json": {
              "id": "8199522f8d6145dba452d913eed51f5a",
              "pip_warning": {
                "packages": [
                  "google"
                ]
              }
            }
          },
          "metadata": {},
          "output_type": "display_data"
        }
      ],
      "source": [
        "!pip install chromaDB langchain-google-genai\n"
      ]
    },
    {
      "cell_type": "code",
      "execution_count": null,
      "metadata": {
        "id": "HX98cDaSHkQj"
      },
      "outputs": [],
      "source": [
        "import os\n",
        "import getpass\n",
        "from langchain.chains import LLMChain\n",
        "from langchain.schema import Document\n",
        "from langchain_community.document_loaders import FireCrawlLoader\n",
        "import google.generativeai as genai\n",
        "from langchain_community.vectorstores import Chroma\n",
        "from langchain_google_genai import ChatGoogleGenerativeAI\n",
        "from langchain.text_splitter import RecursiveCharacterTextSplitter\n",
        "from langchain.prompts import PromptTemplate\n",
        "from langchain.schema import StrOutputParser\n",
        "from langchain_google_genai import GoogleGenerativeAIEmbeddings\n",
        "from langchain_community.vectorstores.utils import filter_complex_metadata\n",
        "from langchain_core.runnables import RunnablePassthrough\n",
        "from langchain_core.prompts import ChatPromptTemplate"
      ]
    },
    {
      "cell_type": "markdown",
      "metadata": {
        "id": "PXtmtkPVwpWa"
      },
      "source": [
        "os.environ[\"GOOGLE_API_KEY\"] = \" please insert you Gemini api key\"\n"
      ]
    },
    {
      "cell_type": "code",
      "execution_count": null,
      "metadata": {},
      "outputs": [],
      "source": [
        "os.environ[\"GOOGLE_API_KEY\"] = \" please insert you Gemini api key\""
      ]
    },
    {
      "cell_type": "code",
      "execution_count": null,
      "metadata": {},
      "outputs": [],
      "source": []
    },
    {
      "cell_type": "code",
      "execution_count": null,
      "metadata": {
        "id": "0QWyYnUdwpSu"
      },
      "outputs": [],
      "source": [
        "llm = ChatGoogleGenerativeAI(\n",
        "    model=\"gemini-1.5-pro-latest\",\n",
        "    temperature=0,\n",
        "    max_tokens=None,\n",
        "    timeout=None,\n",
        "    max_retries=2,\n",
        ")\n",
        "\n",
        "embeddings = GoogleGenerativeAIEmbeddings(model=\"models/embedding-001\")"
      ]
    },
    {
      "cell_type": "code",
      "execution_count": null,
      "metadata": {
        "id": "0oUQ-uuV25ni"
      },
      "outputs": [],
      "source": [
        "# Step 2: Initialize the Loader\n",
        "loader = FireCrawlLoader(url=\"https://deepvox.ai/\", mode=\"crawl\")"
      ]
    },
    {
      "cell_type": "markdown",
      "metadata": {
        "id": "DzfHJFTscyvK"
      },
      "source": [
        "## Split Document"
      ]
    },
    {
      "cell_type": "code",
      "execution_count": null,
      "metadata": {
        "id": "JxHsw-gowL1_"
      },
      "outputs": [],
      "source": [
        "def process_documents(docs):\n",
        "    text_splitter = RecursiveCharacterTextSplitter(\n",
        "        chunk_size=1000,\n",
        "        chunk_overlap=200,\n",
        "        length_function=len,\n",
        "    )\n",
        "\n",
        "    texts = []\n",
        "    for doc in docs:\n",
        "        if not isinstance(doc, Document):\n",
        "            # If for some reason we still get a string or other type\n",
        "            doc = Document(page_content=str(doc), metadata={})\n",
        "        chunks = text_splitter.split_documents([doc])\n",
        "        texts.extend(chunks)\n",
        "\n",
        "    return texts"
      ]
    },
    {
      "cell_type": "markdown",
      "metadata": {
        "id": "2h_CBUX4c7Z9"
      },
      "source": [
        "## Chroma DB"
      ]
    },
    {
      "cell_type": "code",
      "execution_count": null,
      "metadata": {
        "colab": {
          "base_uri": "https://localhost:8080/"
        },
        "id": "V0jJzHXl3Am4",
        "outputId": "a6b1cc8b-be47-4a5d-fe5d-e2fb69d19474"
      },
      "outputs": [
        {
          "name": "stderr",
          "output_type": "stream",
          "text": [
            "<ipython-input-9-e5fd65302f62>:2: LangChainDeprecationWarning: The class `Chroma` was deprecated in LangChain 0.2.9 and will be removed in 1.0. An updated version of the class exists in the :class:`~langchain-chroma package and should be used instead. To use it run `pip install -U :class:`~langchain-chroma` and import as `from :class:`~langchain_chroma import Chroma``.\n",
            "  vectorstore = Chroma(embedding_function=embeddings, persist_directory=\"./chroma_db_scrape_fire\")\n"
          ]
        }
      ],
      "source": [
        "# embeddings = Gemini API Embeddings()\n",
        "vectorstore = Chroma(embedding_function=embeddings, persist_directory=\"./chroma_db_scrape_fire\")"
      ]
    },
    {
      "cell_type": "markdown",
      "metadata": {
        "id": "e7nzeibhdCMT"
      },
      "source": [
        "## Processing, filter and store Pages into Metadata"
      ]
    },
    {
      "cell_type": "code",
      "execution_count": null,
      "metadata": {
        "colab": {
          "base_uri": "https://localhost:8080/"
        },
        "id": "BNp7QyWx2-LW",
        "outputId": "5503a76a-f291-4c25-ea35-59a6bf002fca"
      },
      "outputs": [
        {
          "name": "stdout",
          "output_type": "stream",
          "text": [
            "Document processing and indexing complete.\n"
          ]
        },
        {
          "name": "stderr",
          "output_type": "stream",
          "text": [
            "<ipython-input-10-e6210632b241>:35: LangChainDeprecationWarning: Since Chroma 0.4.x the manual persistence method is no longer supported as docs are automatically persisted.\n",
            "  vectorstore.persist()\n"
          ]
        }
      ],
      "source": [
        "# Step 5: Load, Process, and Index in batches\n",
        "batch_limit = 20\n",
        "pages = []\n",
        "\n",
        "try:\n",
        "    for doc in loader.lazy_load():\n",
        "        # Wrap the doc content in a Document object if it's not already\n",
        "        if not isinstance(doc, Document):\n",
        "            doc = Document(page_content=doc)\n",
        "        pages.append(doc)\n",
        "        if len(pages) >= batch_limit:\n",
        "            # Process the batch of documents\n",
        "            processed_pages = process_documents(pages)\n",
        "\n",
        "            # Filter out complex metadata\n",
        "            filtered_pages = filter_complex_metadata(processed_pages)\n",
        "\n",
        "            # Index the processed documents\n",
        "            vectorstore.add_documents(filtered_pages)\n",
        "\n",
        "            # Clear the pages for the next batch\n",
        "            pages = []\n",
        "\n",
        "    # Don't forget to process any remaining pages\n",
        "    if pages:\n",
        "        processed_pages = process_documents(pages)\n",
        "\n",
        "        # Filter out complex metadata\n",
        "        filtered_pages = filter_complex_metadata(processed_pages)\n",
        "\n",
        "        # Index the processed documents\n",
        "        vectorstore.add_documents(filtered_pages)\n",
        "\n",
        "    # Step 6: Persist the vector store if you haven't already\n",
        "    vectorstore.persist()\n",
        "\n",
        "    print(\"Document processing and indexing complete.\")\n",
        "\n",
        "except Exception as e:\n",
        "    print(f\"An error occurred: {e}\")"
      ]
    },
    {
      "cell_type": "code",
      "execution_count": null,
      "metadata": {
        "colab": {
          "base_uri": "https://localhost:8080/"
        },
        "id": "XDZCpWmnTx-8",
        "outputId": "b9dbce8d-463c-4c9d-e5f4-2343b309908c"
      },
      "outputs": [
        {
          "name": "stdout",
          "output_type": "stream",
          "text": [
            "Pages have been saved to pages_batch.txt\n"
          ]
        }
      ],
      "source": [
        "import pickle\n",
        "\n",
        "# Function to save pages to a file\n",
        "def save_pages_to_file(pages, filename='pages.txt'):\n",
        "    try:\n",
        "        with open(filename, 'wb') as file:\n",
        "            pickle.dump(pages, file)\n",
        "        print(f\"Pages have been saved to {filename}\")\n",
        "    except Exception as e:\n",
        "        print(f\"An error occurred while saving the pages: {e}\")\n",
        "\n",
        "# Example usage:\n",
        "save_pages_to_file(pages, 'pages_batch.txt')\n"
      ]
    },
    {
      "cell_type": "code",
      "execution_count": null,
      "metadata": {
        "id": "Lh9DjJ620KHl"
      },
      "outputs": [],
      "source": [
        "retriever = vectorstore.as_retriever()"
      ]
    },
    {
      "cell_type": "code",
      "execution_count": null,
      "metadata": {
        "id": "NKS7kqScCB0d"
      },
      "outputs": [],
      "source": [
        "# Define the RAG prompt template\n",
        "rag_prompt = PromptTemplate(\n",
        "    template=\"\"\"\n",
        "You are a well-informed assistant. Use the following pieces of context to answer the question at the end.\n",
        "If you don't know the answer, simply state that you don't know; do not attempt to fabricate an answer.\n",
        "Keep your response to three sentences maximum and ensure it is concise.\n",
        "Always return the answer in JSON format, including the source of the document.\n",
        "\n",
        "QUESTION: {question}\n",
        "CONTEXT: {context}\n",
        "answer:\n",
        "\n",
        " \"\"\",\n",
        "    input_variables=[\"question\", \"context\"],\n",
        ")"
      ]
    },
    {
      "cell_type": "code",
      "execution_count": null,
      "metadata": {
        "id": "fBTPcgzucNyl"
      },
      "outputs": [],
      "source": []
    },
    {
      "cell_type": "code",
      "execution_count": null,
      "metadata": {
        "id": "ZdXir3S4DGjx"
      },
      "outputs": [],
      "source": [
        "rag_prompt_chain = rag_prompt | llm | StrOutputParser()"
      ]
    },
    {
      "cell_type": "markdown",
      "metadata": {
        "id": "GwNexMXJdnL5"
      },
      "source": [
        "## Result"
      ]
    },
    {
      "cell_type": "code",
      "execution_count": null,
      "metadata": {
        "colab": {
          "base_uri": "https://localhost:8080/"
        },
        "id": "sU-J7D9xYrH5",
        "outputId": "0751c707-eceb-45f5-ca52-a629e787a086"
      },
      "outputs": [
        {
          "name": "stdout",
          "output_type": "stream",
          "text": [
            "```json\n",
            "{\n",
            " \"answer\": \"Deepvox.ai is a company that provides AI and automation solutions to businesses.  They offer services such as generative AI, predictive analytics, and intelligent systems to drive innovation and efficiency across industries. Their goal is to make AI accessible and impactful for businesses of all sizes.\",\n",
            " \"source\": \"https://deepvox.ai/ and https://deepvox.ai/about.html\"\n",
            "}\n",
            "```\n"
          ]
        }
      ],
      "source": [
        "question = \"\"\" what is Deepvox.ai?\n",
        "\"\"\"\n",
        "context = retriever.invoke(question)\n",
        "result = rag_prompt_chain.invoke({\"question\": question, \"context\": context})\n",
        "\n",
        "print(result)"
      ]
    },
    {
      "cell_type": "code",
      "execution_count": null,
      "metadata": {
        "id": "L-RTm5V-MvVw"
      },
      "outputs": [],
      "source": [
        "question = \"\"\" How deepvox.ai works ?\n",
        "\"\"\"\n",
        "context = retriever.invoke(question)\n",
        "result = rag_prompt_chain.invoke({\"question\": question, \"context\": context})"
      ]
    },
    {
      "cell_type": "code",
      "execution_count": null,
      "metadata": {
        "colab": {
          "base_uri": "https://localhost:8080/"
        },
        "id": "lbBqqr7uQPGa",
        "outputId": "40cd7124-6faf-406e-f6da-90ec60825fe3"
      },
      "outputs": [
        {
          "name": "stdout",
          "output_type": "stream",
          "text": [
            "```json\n",
            "{\n",
            " \"answer\": \"Deepvox.ai is a company that provides AI and automation solutions to businesses.  They specialize in generative AI, predictive analytics, and intelligent systems to drive innovation and efficiency across industries.  Their services include things like multilingual customer support, AI-assisted voice bots, and computer vision systems for quality control in manufacturing.\",\n",
            " \"source\": \"https://deepvox.ai/, https://deepvox.ai/index.html, https://deepvox.ai/services.html, https://deepvox.ai/about.html\"\n",
            "}\n",
            "```\n"
          ]
        }
      ],
      "source": [
        "print(result)"
      ]
    },
    {
      "cell_type": "markdown",
      "metadata": {
        "id": "eIoHKFQUbIgA"
      },
      "source": [
        "## First page data"
      ]
    },
    {
      "cell_type": "code",
      "execution_count": null,
      "metadata": {
        "colab": {
          "base_uri": "https://localhost:8080/"
        },
        "id": "xlNNYvgxWpwv",
        "outputId": "48149799-aa54-4ddc-aaa0-6beaca8eb3e2"
      },
      "outputs": [
        {
          "name": "stdout",
          "output_type": "stream",
          "text": [
            "page_content='[![](https://deepvox.ai/assets/images/immersive-ai_logo.png)](./index.html)\n",
            "\n",
            "*   [Home](./index.html)\n",
            "    \n",
            "*   [About](./about.html)\n",
            "    \n",
            "*   [What we offer](#)\n",
            "    \n",
            "    *   [Services](./services.html)\n",
            "        \n",
            "    *   [Projects](./projects.html)\n",
            "        \n",
            "    \n",
            "*   [FAQ's](./faqs.html)\n",
            "    \n",
            "*   [Let’s Talk](./contact.html)\n",
            "    \n",
            "\n",
            "![](https://deepvox.ai/assets/images/best_image.png)\n",
            "\n",
            "Artificial Intelligence\n",
            "=======================\n",
            "\n",
            "Bring Force of Artificial Intelligence To Your Business Development\n",
            "\n",
            "![](https://deepvox.ai/assets/images/banner_white_line.png)\n",
            "\n",
            "[Read More](./about.html)\n",
            " [Contact Us](./contact.html)\n",
            "\n",
            "![](https://deepvox.ai/assets/images/banner_image_ai.jpg)\n",
            "\n",
            "![](https://deepvox.ai/assets/images/banner_image_top_shape.png)\n",
            "\n",
            "![](https://deepvox.ai/assets/images/banner_image_bottom_shape.png)\n",
            "\n",
            "![](https://deepvox.ai/assets/images/banner_left_image_ai.jpg)\n",
            "\n",
            "[![](https://deepvox.ai/assets/images/scroll_down_image.png)](#footer_section)\n",
            "\n",
            "![](https://deepvox.ai/assets/images/banner_top_shape.png)\n",
            "\n",
            "![](https://deepvox.ai/assets/images/banner_background_shape.png)\n",
            "\n",
            "### Empowering The Future With AI.\n",
            "\n",
            "25 +\n",
            "\n",
            "Project Completed\n",
            "\n",
            "10 +\n",
            "\n",
            "Happy Clients\n",
            "\n",
            "6 +\n",
            "\n",
            "AI & Automation Consultation\n",
            "\n",
            "![](https://deepvox.ai/assets/images/statistics_left_shape.png)\n",
            "\n",
            "![](https://deepvox.ai/assets/images/statistics_right_shape.png)\n",
            "\n",
            "###### What We Can Do\n",
            "\n",
            "Services We Can Help You With\n",
            "-----------------------------\n",
            "\n",
            "![](https://deepvox.ai/assets/images/services_box_image1.png)\n",
            "\n",
            "##### Automation\n",
            "\n",
            "[Read More](./services.html)\n",
            "\n",
            "![](https://deepvox.ai/assets/images/services_box_image2.png)\n",
            "\n",
            "##### Predictive Analysis\n",
            "\n",
            "[Read More](./services.html)\n",
            "\n",
            "![](https://deepvox.ai/assets/images/services_box_image3.png)\n",
            "\n",
            "##### Machine Learning\n",
            "\n",
            "[Read More](./services.html)\n",
            "\n",
            "![](https://deepvox.ai/assets/images/services_background_shape.png)\n",
            "\n",
            "![](https://deepvox.ai/assets/images/services_right_shape.png)\n",
            "\n",
            "![](https://deepvox.ai/assets/images/aboutus_image_ai.jpg)\n",
            "\n",
            "![](https://deepvox.ai/assets/images/aboutus_image_shape.png)\n",
            "\n",
            "###### About US\n",
            "\n",
            "Empowering Business with AI Solutions\n",
            "-------------------------------------\n",
            "\n",
            "We empowers businesses with cutting-edge artificial intelligence solutions, driving innovation and efficiency across industries. Our comprehensive approach delivers:\n",
            "\n",
            "*   Generative AI: Create content, designs, and solutions with AI-powered creativity and innovation.\n",
            "    \n",
            "*   AI Consulting: Expert guidance to integrate AI solutions tailored to your unique business needs.\n",
            "    \n",
            "*   Computer Vision: Improve quality control and security with advanced image recognition technology.\n",
            "    \n",
            "\n",
            "[Read More](./about.html)\n",
            "\n",
            "![](https://deepvox.ai/assets/images/aboutus_background_shape.jpg)\n",
            "\n",
            "![](https://deepvox.ai/assets/images/aboutus_top_shape.png)\n",
            "\n",
            "###### Who We ARe\n",
            "\n",
            "Artificial Intelligence is The New Big Thing in Technology\n",
            "----------------------------------------------------------\n",
            "\n",
            "We deliver powerful AI and automation solutions, revolutionizing businesses with generative AI, predictive analytics, and intelligent systems. We drive innovation and efficiency across industries.\n",
            "\n",
            "[Get Started](./about.html)\n",
            "\n",
            "[![](https://deepvox.ai/assets/images/who_we_are_video_icon.png)](./assets/videos/ai_second_video.mp4)\n",
            "\n",
            "##### Watch Video\n",
            "\n",
            "![](https://deepvox.ai/assets/images/who_we_are_image_ai.png)\n",
            "\n",
            "![](https://deepvox.ai/assets/images/who_we_are_left_shape.png)\n",
            "\n",
            "![](https://deepvox.ai/assets/images/who_we_are_right_shape.png)\n",
            "\n",
            "###### Portfolio\n",
            "\n",
            "Our Latest Projects Showcase\n",
            "----------------------------\n",
            "\n",
            "![](https://deepvox.ai/assets/images/portfolio_image3_ai.jpg)\n",
            "\n",
            "Multilingual Customer Support\n",
            "\n",
            "[Read More](./projects.html)\n",
            "\n",
            "AI-Assisted Voice Bot\n",
            "\n",
            "![](https://deepvox.ai/assets/images/portfolio_image1_ai.jpg)\n",
            "\n",
            "Quality Control in Manufacturing\n",
            "\n",
            "[Read More](./projects.html)\n",
            "\n",
            "Computer Vision\n",
            "\n",
            "![](https://deepvox.ai/assets/images/portfolio_image2_ai.jpg)\n",
            "\n",
            "Personalized Campaign Management\n",
            "\n",
            "[Read More](./projects.html)\n",
            "\n",
            "Digital Marketing Automation\n",
            "\n",
            "![](https://deepvox.ai/assets/images/portfolio_image1_ai.jpg)\n",
            "\n",
            "Customer Service Excellence\n",
            "\n",
            "[Read More](./projects.html)\n",
            "\n",
            "AI-Assisted Chatbot\n",
            "\n",
            "![](https://deepvox.ai/assets/images/portfolio_image2_ai.jpg)\n",
            "\n",
            "Competitive Edge through Intelligent Analysis\n",
            "\n",
            "[Read More](./projects.html)\n",
            "\n",
            "Digital Marketing AI\n",
            "\n",
            "![](https://deepvox.ai/assets/images/portfolio_image3_ai.jpg)\n",
            "\n",
            "Multilingual Customer Support\n",
            "\n",
            "[Read More](./projects.html)\n",
            "\n",
            "AI-Assisted Voice Bot\n",
            "\n",
            "![](https://deepvox.ai/assets/images/portfolio_image1_ai.jpg)\n",
            "\n",
            "Quality Control in Manufacturing\n",
            "\n",
            "[Read More](./projects.html)\n",
            "\n",
            "Computer Vision\n",
            "\n",
            "![](https://deepvox.ai/assets/images/portfolio_image2_ai.jpg)\n",
            "\n",
            "Personalized Campaign Management\n",
            "\n",
            "[Read More](./projects.html)\n",
            "\n",
            "Digital Marketing Automation\n",
            "\n",
            "![](https://deepvox.ai/assets/images/portfolio_image1_ai.jpg)\n",
            "\n",
            "Customer Service Excellence\n",
            "\n",
            "[Read More](./projects.html)\n",
            "\n",
            "AI-Assisted Chatbot\n",
            "\n",
            "![](https://deepvox.ai/assets/images/portfolio_image2_ai.jpg)\n",
            "\n",
            "Competitive Edge through Intelligent Analysis\n",
            "\n",
            "[Read More](./projects.html)\n",
            "\n",
            "Digital Marketing AI\n",
            "\n",
            "![](https://deepvox.ai/assets/images/portfolio_image3_ai.jpg)\n",
            "\n",
            "Multilingual Customer Support\n",
            "\n",
            "[Read More](./projects.html)\n",
            "\n",
            "AI-Assisted Voice Bot\n",
            "\n",
            "‹›\n",
            "\n",
            "![](https://deepvox.ai/assets/images/portfolio_left_shape.png)\n",
            "\n",
            "###### FAQ’s\n",
            "\n",
            "Frequently Asked Questions\n",
            "--------------------------\n",
            "\n",
            "How can AI improve my customer service operations?\n",
            "\n",
            "Our AI chatbots and voice bots can handle queries 24/7, reducing response times and improving customer satisfaction.\n",
            "\n",
            "What ROI can I expect from implementing AI in my business?\n",
            "\n",
            "While it varies, our clients typically see 20-40% cost reduction and 15-30% efficiency improvement within the first year.\n",
            "\n",
            "Can AI help me personalize my marketing campaigns?\n",
            "\n",
            "Yes, our AI analyzes customer data to create highly targeted, personalized marketing strategies that significantly boost engagement.\n",
            "\n",
            "How difficult is it to integrate AI into my existing business processes?\n",
            "\n",
            "We design our AI solutions for seamless integration, with minimal disruption to your current operations.\n",
            "\n",
            "Can AI assist in making better business decisions?\n",
            "\n",
            "Our predictive analytics AI can process vast amounts of data to provide actionable insights for informed decision-making.\n",
            "\n",
            "What industries have you successfully implemented AI solutions in?\n",
            "\n",
            "We've successfully deployed AI across retail, healthcare, finance, manufacturing, and e-commerce sectors, among others.\n",
            "\n",
            "![](https://deepvox.ai/assets/images/faq_right_shape.png)\n",
            "\n",
            "![](https://deepvox.ai/assets/images/get_started_image_ai.png)\n",
            "\n",
            "###### GEt Started\n",
            "\n",
            "Let's Make Something Great Together\n",
            "-----------------------------------\n",
            "\n",
            "[Contact Us](./contact.html)\n",
            "\n",
            "![](https://deepvox.ai/assets/images/get_started_shape.png)\n",
            "\n",
            "[![](https://deepvox.ai/assets/images/immersive_footer_logo.png)](./index.html)\n",
            "\n",
            "*   We empowers businesses with cutting-edge artificial intelligence solutions, driving innovation and efficiency across industries.\n",
            "    \n",
            "*   [](#)\n",
            "    \n",
            "*   [](#)\n",
            "    \n",
            "*   [](#)\n",
            "    \n",
            "\n",
            "#### Useful Links\n",
            "\n",
            "*   [Home](./index.html)\n",
            "    \n",
            "*   [About](./about.html)\n",
            "    \n",
            "*   [Services](./services.html)\n",
            "    \n",
            "*   [Projects](./projects.html)\n",
            "    \n",
            "*   [Contact us](./contact.html)\n",
            "    \n",
            "\n",
            "#### Contact Us\n",
            "\n",
            "*   [+91 9704 782 111](tel:+919704782111)\n",
            "    \n",
            "*   [info@deepvox.ai](mailto:info@deepvox.ai)\n",
            "    \n",
            "*   T-Hub, Hyderabad, Serilingampalle (M), Telangana 500081\n",
            "\n",
            "#### Newsletter\n",
            "\n",
            "*   [ ]  Stay Updated with the Latest in AI and Automation.\n",
            "\n",
            "![](https://deepvox.ai/assets/images/footer_right_shape.png)\n",
            "\n",
            "![](https://deepvox.ai/assets/images/footer_background_shape.jpg)\n",
            "\n",
            "Copyright © 2024 DeepVoxAI All rights reserved.' metadata={'title': 'Home | DeepVox-AI', 'language': 'zxx', 'sourceURL': 'https://deepvox.ai/', 'pageStatusCode': 200, 'ogLocaleAlternate': []}\n"
          ]
        }
      ],
      "source": [
        "print(pages[0])"
      ]
    },
    {
      "cell_type": "code",
      "execution_count": null,
      "metadata": {
        "colab": {
          "base_uri": "https://localhost:8080/"
        },
        "id": "walgWX_qXApW",
        "outputId": "c1f37f28-5baa-4090-b202-6a7bc1341b90"
      },
      "outputs": [
        {
          "name": "stdout",
          "output_type": "stream",
          "text": [
            "page_content='[![](https://deepvox.ai/assets/images/immersive-ai_logo.png)](./index.html)\n",
            "\n",
            "*   [Home](./index.html)\n",
            "    \n",
            "*   [About](./about.html)\n",
            "    \n",
            "*   [What we offer](#)\n",
            "    \n",
            "    *   [Services](./services.html)\n",
            "        \n",
            "    *   [Projects](./projects.html)\n",
            "        \n",
            "    \n",
            "*   [FAQ's](./faqs.html)\n",
            "    \n",
            "*   [Let’s Talk](./contact.html)\n",
            "    \n",
            "\n",
            "![](https://deepvox.ai/assets/images/best_image.png)\n",
            "\n",
            "Artificial Intelligence\n",
            "=======================\n",
            "\n",
            "Bring Force of Artificial Intelligence To Your Business Development\n",
            "\n",
            "![](https://deepvox.ai/assets/images/banner_white_line.png)\n",
            "\n",
            "[Read More](./about.html)\n",
            " [Contact Us](./contact.html)\n",
            "\n",
            "![](https://deepvox.ai/assets/images/banner_image_ai.jpg)\n",
            "\n",
            "![](https://deepvox.ai/assets/images/banner_image_top_shape.png)\n",
            "\n",
            "![](https://deepvox.ai/assets/images/banner_image_bottom_shape.png)\n",
            "\n",
            "![](https://deepvox.ai/assets/images/banner_left_image_ai.jpg)\n",
            "\n",
            "[![](https://deepvox.ai/assets/images/scroll_down_image.png)](#footer_section)' metadata={'title': 'Home | DeepVox-AI', 'language': 'zxx', 'sourceURL': 'https://deepvox.ai/', 'pageStatusCode': 200}\n"
          ]
        }
      ],
      "source": [
        "print(processed_pages[0])"
      ]
    },
    {
      "cell_type": "code",
      "execution_count": null,
      "metadata": {
        "colab": {
          "base_uri": "https://localhost:8080/"
        },
        "id": "X55agW8bXmkr",
        "outputId": "af2c9798-51a0-49d6-95d0-fcbdf646587d"
      },
      "outputs": [
        {
          "name": "stdout",
          "output_type": "stream",
          "text": [
            "page_content='[![](https://deepvox.ai/assets/images/immersive-ai_logo.png)](./index.html)\n",
            "\n",
            "*   [Home](./index.html)\n",
            "    \n",
            "*   [About](./about.html)\n",
            "    \n",
            "*   [What we offer](#)\n",
            "    \n",
            "    *   [Services](./services.html)\n",
            "        \n",
            "    *   [Projects](./projects.html)\n",
            "        \n",
            "    \n",
            "*   [FAQ's](./faqs.html)\n",
            "    \n",
            "*   [Let’s Talk](./contact.html)\n",
            "    \n",
            "\n",
            "![](https://deepvox.ai/assets/images/best_image.png)\n",
            "\n",
            "Artificial Intelligence\n",
            "=======================\n",
            "\n",
            "Bring Force of Artificial Intelligence To Your Business Development\n",
            "\n",
            "![](https://deepvox.ai/assets/images/banner_white_line.png)\n",
            "\n",
            "[Read More](./about.html)\n",
            " [Contact Us](./contact.html)\n",
            "\n",
            "![](https://deepvox.ai/assets/images/banner_image_ai.jpg)\n",
            "\n",
            "![](https://deepvox.ai/assets/images/banner_image_top_shape.png)\n",
            "\n",
            "![](https://deepvox.ai/assets/images/banner_image_bottom_shape.png)\n",
            "\n",
            "![](https://deepvox.ai/assets/images/banner_left_image_ai.jpg)\n",
            "\n",
            "[![](https://deepvox.ai/assets/images/scroll_down_image.png)](#footer_section)' metadata={'title': 'Home | DeepVox-AI', 'language': 'zxx', 'sourceURL': 'https://deepvox.ai/', 'pageStatusCode': 200}\n"
          ]
        }
      ],
      "source": [
        "print( filtered_pages[0])"
      ]
    },
    {
      "cell_type": "code",
      "execution_count": null,
      "metadata": {
        "colab": {
          "base_uri": "https://localhost:8080/"
        },
        "id": "jTFBxAPMZIaS",
        "outputId": "4be6435b-2058-4d70-df58-20b5a05430dd"
      },
      "outputs": [
        {
          "data": {
            "text/plain": [
              "Document(metadata={'title': 'deepvox.ai', 'language': 'en', 'sourceURL': 'https://deepvox.ai/assets/videos/ai_first_video.mp4', 'pageStatusCode': 200, 'ogLocaleAlternate': []}, page_content='deepvox.ai is blocked\\n=====================\\n\\nThis page has been blocked by Chrome\\n\\nERR\\\\_BLOCKED\\\\_BY\\\\_CLIENT\\n\\nnull\\n\\nReload\\n\\nThis page has been blocked by Chrome\\n\\n![](data:image/png;base64,iVBORw0KGgoAAAANSUhEUgAABNEAAABkBAMAAABayruYAAAAJFBMVEUAAADa2tr/////9/e6urpTU1O5ubn39/f///9ZWVlfX1/z8/O/OctmAAAACXRSTlMA//////////ZO3iNwAAALPElEQVR4AezdwY6bShMF4GP6krX9Bqgk9kiI/SzyAAir9lnlFfL6N26OWhXckDae9mClj/L7L1czMMbfbYDMOCgpKSkpwelyRmIEd6mEhTQpDabvu1C7vsf2ALM6cLlctquVtq2YDwC1jrfHEVDV8fagvln7p7XOlUKVi9SKWrncY5GQnN0DhLuZ1HZJa7WZPemU0GCc6hUMBtVue4BZHeD3v1caTn9KIyiPSimIvjw8SqtDVaQlvKrT2e91JEVUsEilOtGTNkkNUglWnFLX1oDrWSwGSOZ8V91CRczFDnBkWVEaKG0WBISZDPOTeeD2MIZK/Sz4YESUkbxdRhlkTXTrJ74d+aQ1bFRPSRvYjUuLmLOKmNjIch3/fQesGygrHW/SyO2WWzWmSyvSHjpVE1WJSWsIqwJk0agmSmsb39gnzbGKSaOXyJTGKmFSA6vvv/Nh3NQaDpyjPWaCp22mt0+ahkj+LlTzU4tu3Ujjrt4nrZoIq20qlT8brW/4k7S5sQGq73ZJO+M5aawjc5pHRmmYLxMozY/64llp8oAeeaQrMWkir5EGnSPLg8aZ6OaIrJ3n8WsX0lptPCy5ldOiYaT5xro0p9cEaa7nAENd99DOrEzIK0btxOrDSKMl0JeyCgugtr2DSWunmDR2Xy7tdF7c7MgmrfmLNDa7LWmOX9pllzbSDac0UBqrpTQOHOboeQBpIWJOjU3Oq8dItu+pNZRWLaWFBg+nnyBt6FhxIMIrVGxfFqGujcuDj/lkf6S0EeYC9E5aGDiUtAMcPUNkMZ8xl/Oj0qqJ0tomSFs2xDfkaWlOr1FpZzwrzU5qP3jn1px/qeroQUGVDyR2q/hs9X5auSI44T5nLheTJkppdnDpiNJCY1ta3wVQcB2lceBrpH3Dj29F2qdKO50vEWunl0qb6RDUcO0ojQOGYFya6++gnVlRGiubIO1CXgtq+IFPTZF2AeJvBBeT+Ffz8TlpvJnhZTleSTo+NwOB4Iq0QbvPl/btJz41Rdpanpemf5EWbmZQVheXZgei0m7Fp0v7+Ts/APteqI6savX/Y22XCa3NJVlH9qrP092DSROfv3qUOXdt/t8z0iyo3rjplgMJ0ugkemPjHCobnKK3PPiFnNOOL61Iq95cGq89rZ9aQ6l1MKNYhLqi9XKZX79if0EokqNrk9FZwtZj0EJks01pamYztFYaSz7qXmmue5U0f+0Zs0FpWqR9rbSpIqwGFWEpG0Fau1/a4Fn1r5rTskv7pV5aJeYwA4hKli4UjFXmh2LhGho8mujW1yNzlFE+R7QdpDWUNgGoOHmxQWnazP090nr/R/UV0sLfe2ryGVfcZB1Zkms+qLRKhGki0iTkC6VNglmaNKC0KTSCNAhnvf3SOnT5pW3pwlgnzWnLqwOY9ghKE2nDzuQ7laUL81KMtHlYDC9TtpNIY+xJsrTl1pmnD6I8OeNE1gAsGzZgpIGz3pa0fkvaFe7qpfX5pH18fPyj0sKX6SRipTHKiHyJtIrS0Fppk4ANwgvSpNmW5hOXdu078Cab5pP23/cZx9oZV6I0qI5RaVC9SVO+dwyd5OlCNXKHQ9QsTF5qy8nY0zRp0a2nUiPO1bY9O6O0RaO10hpsSHPb0oD80vzP3AKqutSVfD+NITS7JAnrQaWRFeulNA35ImmVzLAgbZBmGySnKdIwJEjDkH1Oe4U0+94JnWTqQlUNNARpd5napTob2QYU33qqNEbifUn+3ahbK0Ga25bm/JzGhTKep+VOTmlFWpMiDcOmtKEbtLs9aNZrz9dIY+z5fKYu1MTc5dDVTBKlliBtsfWUyNpXiG2nSpvENHiJqT1B9To/dIDjQFSa0+ugvV5d32f7G/Yi7d2lAVYaQ0zMFeAgB0jwThrglDYzSMMXSIOPZOnGpW1Tm5pK2qelIS2yeptXGOB5aZ0zNaXZAaqLSKPNIm21W6TRCakMpqY0/8QNlmNcWpfj9wheElEbydxFVBpE1qVhSS2FkOyTlrDsPmlGVxfQXPuO0swAh1gupdHm+0uT3F1EoGWXJjiANCLqezuJMYMZIEGWVhoHcvwW3uupSfYurLRtapPc0iBOTXywFtkpTZBJGvp+CCdmvJIEYwZIkKWRlu932I8vrUjL8KlWhuDwhtLSr+3zdxGDZqnxdi2LBlhSEwlF+qv6XGkQaWZyImmNHZ815HojLfETYFguoeG0+gkwx5ZWpO3Krk+14tVCzk+1ej01kVd0EYHmNf15a2NOw1FLTSBM6qtKjajgYNJ4upb3k/r+TWki7SRr0iYRlX9Kmh/su8yfPvqa8MglqiKpXeGBzXYlaQ2khntpLX9AyEuLsOFWU+XYrSdHcDxpbtAuDGT6ROV/SVollNZULdcd32oSHZ7OcevKvKc0WGmZPiX+ZRFVgaikd3lgW1JLWsOs7F6a/3yLBmvSBBAh5/2vKn/ySztyji8NVZAW1m1CaXNQpL2vNOFDWjcSEUldAxQxaSLSTg3WpBHYQ9IERdpqijQmLi09qkXaYY+eKqndeBLXAFU+RA6gTcKqd7yq40hzFlS3MRCX1uHoKdJqfG2c86AGb6Wbf1b7ejcAx4GINA68c8Jvhqd240lbw3p4hra66vSoLrZ+gAyDhqnLXZUzlB0gwXnAWWl2IH+KtPeOc/3vdCCoWxYDJEhfHVz4LTwzkJKSEmetDN1ygARvA47/7OfQud4OJKWkxFJxCQOh5pP3S0lJSUlJSYmq4sipVcdF/Y4pqcfbnwNHgXFRv2FKagWgOG74D97a+h1Tonw8ZgiLjxo6nxQteV1GzmzK8NlxYkyMz/lAydGmEEVJSe7Mc0dJrY8uPyaedO4PN5I96Zsr+yp9c6ppKwKjSIuurYAZk48wy4xJb7COO2jU3CIXKPsqcV8dMnXaEjuiO76DL9xLZV/Va9+T6oP/LSVN3yO3wMXzRLEnY9lXyUk8dOquw8R4vHNG1T3fmCa90LKv0vfV/+2dQW6jQBBFEascwyqpL9RSiZO0ejvL4QZDbmB8g/hy0zXwRUPZ0QiRDfwnJ5aesstTCdNNm7yAEEJaWXE7ztQQEnRFPM6Q04+orftuwLS64XaUacjpR5Q7KyQuRirMBt0QjzLNmSHyr7TNSVuFOJuPYRjGifsw/GFp+yCtqBHlnemH4XOcKdH9Ymm7IKIT8eYNShvB/X1p3cYY2RlNznSXKI20CgQmrk2PkWZ8U1remtrBqDddukJpRNxHvxDDaqj1w7hwn0pLKbl5lfOL0pIrzZkuX6A00sYqDwy5sBpq/edYMZWWsxWTC3VpaWsK6o12G5NgmhPD0uRlaQFmKu05Pp6FL5TW5ZxRydSMqbQ1BXXGulqbDNOcFtKqqMoM7q5FM6Eq7WGlGShNp5lmoBm0B4MQVwYzbW0STENOS1AJUTQKLsuso2ARiBRnprfKvsbCo7zdUVpeLrLiG5O6vDX22pguw5y0NIKurDIJqorSROyXvU+ljVaaUZeWXFfedMmX5kyXLlAaCXNkWpcWA0JAaV/PbWkp/09pzmjypek1SmNp0ZWmMEtpoytNfUU7zTVLY2nK0sjPlKa+NGFp5AdKc58INE4/LI0cWloUe6E0TDjxpT1YGtmLaEFEcD8NJkiA6S2xmRGlZYBmDjENOftWDtFCrEyU9WrUBFajsIqElaajTEOuVFpQZKDx3Qr7Mozwx4eYhpyXsJR2m4wsGbzeNcQ9t2QHLf7pKjD1SPM7IVka2UUruKshMMGEISyNHMe8mh6lMrhuc88RDCyN7Gba9xhvlYlaBJ/CI8fSBg0qt9pIEYvpkdrdRhpLI57dXw66Mh+/K3haAuEJMOQ88FQrsoO/etICpT2ul1QAAAAASUVORK5CYII=) ![](data:image/png;base64,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)')"
            ]
          },
          "execution_count": 18,
          "metadata": {},
          "output_type": "execute_result"
        }
      ],
      "source": [
        "doc"
      ]
    },
    {
      "cell_type": "code",
      "execution_count": null,
      "metadata": {
        "colab": {
          "base_uri": "https://localhost:8080/"
        },
        "id": "oAiba5f4cNAa",
        "outputId": "30132330-0d1d-4068-fb10-838a3a63ad23"
      },
      "outputs": [
        {
          "name": "stdout",
          "output_type": "stream",
          "text": [
            "```json\n",
            "{\n",
            " \"answer\": \"Deepvox.ai is a company that provides AI and automation solutions to businesses.  They specialize in generative AI, predictive analytics, and intelligent systems to drive innovation and efficiency across industries.  Their services include things like multilingual customer support, AI-assisted voice bots, and computer vision systems for quality control in manufacturing.\",\n",
            " \"source\": \"https://deepvox.ai/, https://deepvox.ai/index.html, https://deepvox.ai/services.html, https://deepvox.ai/about.html\"\n",
            "}\n",
            "```\n",
            "Output has been saved to output.txt\n"
          ]
        }
      ],
      "source": [
        "# Assuming context and result are generated from the retriever and rag_prompt_chain respectively\n",
        "question = \"\"\" what is Deepvox.ai? \"\"\"\n",
        "context = retriever.invoke(question)\n",
        "result = rag_prompt_chain.invoke({\"question\": question, \"context\": context})\n",
        "\n",
        "# Print the result\n",
        "print(result)\n",
        "\n",
        "# Save the outputs to a file\n",
        "def save_output_to_file(question, context, result, filename='output.txt'):\n",
        "    try:\n",
        "        with open(filename, 'w') as file:\n",
        "            file.write(\"Question:\\n\")\n",
        "            file.write(question + \"\\n\\n\")\n",
        "\n",
        "            file.write(\"Context:\\n\")\n",
        "            file.write(str(context) + \"\\n\\n\")\n",
        "\n",
        "            file.write(\"Result:\\n\")\n",
        "            file.write(str(result) + \"\\n\")\n",
        "\n",
        "        print(f\"Output has been saved to {filename}\")\n",
        "    except Exception as e:\n",
        "        print(f\"An error occurred while saving the output: {e}\")\n",
        "\n",
        "# Example usage:\n",
        "save_output_to_file(question, context, result, 'output.txt')\n"
      ]
    },
    {
      "cell_type": "code",
      "execution_count": null,
      "metadata": {
        "colab": {
          "base_uri": "https://localhost:8080/"
        },
        "id": "GQz2XOFZb2J7",
        "outputId": "f74530cb-7567-45fa-ba02-da9f407cab4f"
      },
      "outputs": [
        {
          "name": "stdout",
          "output_type": "stream",
          "text": [
            "Enter your question (or type 'exit' to quit): what is Deepvox.ai\n",
            "Output:\n",
            "{'result': '```json\\n{\\n \"answer\": \"Deepvox.ai is a company that provides AI and automation solutions to businesses.  They specialize in generative AI, predictive analytics, and intelligent systems to drive innovation and efficiency across industries.  Their services include things like AI-assisted voice bots and computer vision systems for quality control.\",\\n \"source\": \"https://deepvox.ai/ and https://deepvox.ai/services.html\"\\n}\\n```'}\n",
            "\n",
            "The input and output have been saved to output.txt\n",
            "\n",
            "Enter your question (or type 'exit' to quit): How to works Deepvox.ai\n",
            "Output:\n",
            "{'result': '```json\\n{\\n \"answer\": \"The context provided does not explain how Deepvox.ai works, it mainly describes the company\\'s vision, services, and frequently asked questions.\",\\n \"source\": \"null\"\\n}\\n```'}\n",
            "\n",
            "The input and output have been saved to output.txt\n",
            "\n",
            "Enter your question (or type 'exit' to quit): What services are provide by deepvox.ai\n",
            "Output:\n",
            "{'result': '```json\\n{\\n \"answer\": \"Deepvox.ai provides services such as AI-assisted voice bots for multilingual customer support and healthcare appointment scheduling, digital marketing AI, AI-assisted chatbots for customer service, and computer vision for quality control in manufacturing.\",\\n \"source\": \"https://deepvox.ai/services.html\"\\n}\\n```'}\n",
            "\n",
            "The input and output have been saved to output.txt\n",
            "\n",
            "Enter your question (or type 'exit' to quit): How is the review of healthcare appointment scheduling\n",
            "Output:\n",
            "{'result': '```json\\n{\\n \"answer\": \"The document describes an AI-assisted voice bot that reduced appointment booking time and decreased no-show rates, but it does not contain information on the review process for healthcare appointment scheduling.\",\\n \"source\": \"No specific source found.\"\\n}\\n```'}\n",
            "\n",
            "The input and output have been saved to output.txt\n",
            "\n",
            "Enter your question (or type 'exit' to quit): computer vision for quality control in manufacturing\n",
            "Output:\n",
            "{'result': '```json\\n{\\n \"answer\": \"DeepVox AI implemented an AI-powered visual inspection system to increase defect detection accuracy to 99.7%, up from 92% with human inspectors. This reduced quality control costs by 40% while increasing throughput by 25%.\",\\n \"source\": \"https://deepvox.ai/services.html\"\\n}\\n```'}\n",
            "\n",
            "The input and output have been saved to output.txt\n",
            "\n",
            "Enter your question (or type 'exit' to quit): How to do connect with their team.\n",
            "Output:\n",
            "{'result': '```json\\n{\\n \"answer\": \"The provided context does not contain the answer to how to connect with the team. However, it does mention that the company is located in T-Hub, Hyderabad, Serilingampalle (M), Telangana 500081, and their email address is info@deepvox.ai.\",\\n \"source\": \"https://deepvox.ai/contact.html\"\\n}\\n```'}\n",
            "\n",
            "The input and output have been saved to output.txt\n",
            "\n",
            "Enter your question (or type 'exit' to quit): can ai help me to personlize my marketing campigans\n",
            "Output:\n",
            "{'result': '```json\\n{\\n \"answer\": \"Yes, AI can analyze customer data to create highly targeted, personalized marketing strategies that significantly boost engagement. This information is sourced from DeepVox-AI\\'s FAQs page.\",\\n \"source\": \"https://deepvox.ai/faqs.html\"\\n}\\n```'}\n",
            "\n",
            "The input and output have been saved to output.txt\n",
            "\n",
            "Enter your question (or type 'exit' to quit): How can ai improve my customer service operations\n",
            "Output:\n",
            "{'result': '```json\\n{\\n \"answer\": \"AI chatbots and voice bots can handle customer queries 24/7, reducing response times and improving customer satisfaction. This allows human agents to focus on more complex issues, leading to better overall service.\",\\n \"source\": \"https://deepvox.ai/services.html\"\\n}\\n```'}\n",
            "\n",
            "The input and output have been saved to output.txt\n",
            "\n",
            "Enter your question (or type 'exit' to quit): Can AI assist in making better bussines desicions\n",
            "Output:\n",
            "{'result': '```json\\n{\\n \"answer\": \"Yes, AI can help make superior business decisions.  AI\\'s predictive analytics can process large amounts of data to deliver actionable insights.  These insights lead to more informed decision-making.\",\\n \"source\": \"https://deepvox.ai/services.html\"\\n}\\n```'}\n",
            "\n",
            "The input and output have been saved to output.txt\n",
            "\n",
            "Enter your question (or type 'exit' to quit): what is deepvox mission and vision\n",
            "Output:\n",
            "{'result': '```json\\n{\\n \"answer\": \"DeepVox AI\\'s mission is to revolutionize businesses with cutting-edge AI and automation solutions, aiming to streamline processes, foster innovation, and drive efficiency across industries. Their vision is to shape the future where AI and automation are at the core of every industry, making AI accessible and impactful for businesses of all sizes to drive innovation, growth, efficiency, and success.\",\\n \"source\": \"https://deepvox.ai/about.html\"\\n}\\n```'}\n",
            "\n",
            "The input and output have been saved to output.txt\n",
            "\n",
            "Enter your question (or type 'exit' to quit): exit\n",
            "Exiting the program.\n"
          ]
        }
      ],
      "source": [
        "def process_and_save_continuously(process_function, filename='output.txt'):\n",
        "    \"\"\"\n",
        "    Continuously takes input from the user, processes it using a provided function, and saves each input-output pair to a file.\n",
        "\n",
        "    :param process_function: A function that processes the input and returns an output.\n",
        "                             It should accept the input_data as an argument.\n",
        "    :param filename: The name of the file where the input and output should be saved (default is 'output.txt').\n",
        "    \"\"\"\n",
        "    try:\n",
        "        with open(filename, 'a') as file:  # Open the file in append mode to keep adding content\n",
        "            while True:\n",
        "                # Take input from the user\n",
        "                input_data = input(\"Enter your question (or type 'exit' to quit): \")\n",
        "\n",
        "                # Break the loop if the user wants to stop\n",
        "                if input_data.lower() == 'exit':\n",
        "                    print(\"Exiting the program.\")\n",
        "                    break\n",
        "\n",
        "                # Process the input data using the provided function\n",
        "                output = process_function(input_data)\n",
        "\n",
        "                # Write the input and output to the file\n",
        "                file.write(\"Input:\\n\")\n",
        "                file.write(str(input_data) + \"\\n\\n\")\n",
        "\n",
        "                file.write(\"Output:\\n\")\n",
        "                file.write(str(output) + \"\\n\\n\")\n",
        "\n",
        "                # Print the output for the user to see immediately\n",
        "                print(f\"Output:\\n{output}\\n\")\n",
        "                print(f\"The input and output have been saved to {filename}\\n\")\n",
        "\n",
        "    except Exception as e:\n",
        "        print(f\"An error occurred: {e}\")\n",
        "\n",
        "# Example processing function\n",
        "def example_process_function(input_data):\n",
        "    # Replace this with the actual processing logic\n",
        "    context = retriever.invoke(input_data)\n",
        "    result = rag_prompt_chain.invoke({\"question\": input_data, \"context\": context})\n",
        "    return {\"result\": result}\n",
        "\n",
        "# Start the continuous input-output process\n",
        "process_and_save_continuously(example_process_function, 'output.txt')\n"
      ]
    },
    {
      "cell_type": "code",
      "execution_count": null,
      "metadata": {
        "id": "Ocy6oS0scutt"
      },
      "outputs": [],
      "source": []
    }
  ],
  "metadata": {
    "colab": {
      "provenance": []
    },
    "kernelspec": {
      "display_name": "Python 3",
      "name": "python3"
    },
    "language_info": {
      "name": "python"
    }
  },
  "nbformat": 4,
  "nbformat_minor": 0
}
